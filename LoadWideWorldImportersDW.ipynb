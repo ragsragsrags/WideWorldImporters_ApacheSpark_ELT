{
    "metadata": {
        "kernelspec": {
            "name": "python3",
            "display_name": "Python 3",
            "language": "python"
        },
        "language_info": {
            "name": "python",
            "version": "3.10.11",
            "mimetype": "text/x-python",
            "codemirror_mode": {
                "name": "ipython",
                "version": 3
            },
            "pygments_lexer": "ipython3",
            "nbconvert_exporter": "python",
            "file_extension": ".py"
        }
    },
    "nbformat_minor": 2,
    "nbformat": 4,
    "cells": [
        {
            "cell_type": "markdown",
            "source": [
                "Create spark session"
            ],
            "metadata": {
                "language": "python",
                "azdata_cell_guid": "3ac623e0-d65e-4d22-a981-111bf6969069"
            },
            "attachments": {}
        },
        {
            "cell_type": "code",
            "source": [
                "import os\r\n",
                "from pyspark.sql import SparkSession\r\n",
                "import warnings\r\n",
                "\r\n",
                "warnings.filterwarnings('ignore')\r\n",
                "\r\n",
                "spark = (\r\n",
                "    SparkSession\r\n",
                "        .builder\r\n",
                "        .config(\r\n",
                "            \"spark.driver.host\", \r\n",
                "            \"localhost\"\r\n",
                "        )\r\n",
                "        .config(\r\n",
                "            \"spark.jars\",\r\n",
                "            \"{}/sqlite-jdbc-3.34.0.jar\".format(os.getcwd()))\r\n",
                "        .config(\r\n",
                "            \"spark.driver.extraClassPath\",\r\n",
                "            \"{}/sqlite-jdbc-3.34.0.jar\".format(os.getcwd()))\r\n",
                "        .appName('appname')\r\n",
                "        .getOrCreate()\r\n",
                ")\r\n",
                "\r\n",
                "spark.conf.set(\"spark.sql.ansi.enabled\", False)\r\n",
                "\r\n",
                "print(\"Spark session created succesfully...\")"
            ],
            "metadata": {
                "azdata_cell_guid": "f40da8e8-7114-4edc-b2a9-6e1d90c0c5c5",
                "language": "python"
            },
            "outputs": [],
            "execution_count": null
        },
        {
            "cell_type": "markdown",
            "source": [
                "Save to database function"
            ],
            "metadata": {
                "language": "python",
                "azdata_cell_guid": "22fc17ed-36b8-4788-ad3c-b82f0d42ec5f"
            },
            "attachments": {}
        },
        {
            "cell_type": "code",
            "source": [
                "import pyspark.sql.functions as fn\r\n",
                "import numpy as np\r\n",
                "import sqlite3\r\n",
                "\r\n",
                "def save_to_database(filepath, data_types, dbpath, table):\r\n",
                "    df = spark.read.csv(\r\n",
                "        filepath, \r\n",
                "        header=True, \r\n",
                "        inferSchema=False,\r\n",
                "        quote=\"\\\"\", \r\n",
                "        escape=\"\\\"\"\r\n",
                "    )\r\n",
                "\r\n",
                "    # update to pandas core and replace none to nan\r\n",
                "    df = df.toPandas().replace({None: np.nan})\r\n",
                "\r\n",
                "    # update data types accordingly\r\n",
                "    df = df.astype(data_types)\r\n",
                "\r\n",
                "    conn = sqlite3.connect(dbpath)\r\n",
                "\r\n",
                "    # write database to table\r\n",
                "    df.to_sql(\r\n",
                "        table, \r\n",
                "        conn, \r\n",
                "        if_exists='replace', \r\n",
                "        index=False\r\n",
                "    )\r\n",
                "\r\n",
                "    # Close the connection\r\n",
                "    conn.close()\r\n",
                "\r\n",
                "    print(\"Successfully created \" + table + \" table in \" + dbpath + \" database.\")"
            ],
            "metadata": {
                "language": "python",
                "azdata_cell_guid": "1db2c9d7-4a36-4857-ae91-bc1e4dd82503"
            },
            "outputs": [],
            "execution_count": 2
        },
        {
            "cell_type": "markdown",
            "source": [
                "Save Cities"
            ],
            "metadata": {
                "language": "python",
                "azdata_cell_guid": "3bc98676-63b8-498f-8ab6-2d1d5ba918e4"
            },
            "attachments": {}
        },
        {
            "cell_type": "code",
            "source": [
                "# main\r\n",
                "save_to_database(\r\n",
                "    \"./wwi/Cities.csv\",\r\n",
                "    {\r\n",
                "        \"CityID\": int, \r\n",
                "        \"StateProvinceID\": int,\r\n",
                "        \"LatestRecordedPopulation\": float,\r\n",
                "        \"LastEditedBy\": int\r\n",
                "    },\r\n",
                "    \"wwi.db\",\r\n",
                "    \"Cities\"\r\n",
                ")\r\n",
                "\r\n",
                "# archive\r\n",
                "save_to_database(\r\n",
                "    \"./wwi/Cities_Archive.csv\",\r\n",
                "    {\r\n",
                "        \"CityID\": int, \r\n",
                "        \"StateProvinceID\": int,\r\n",
                "        \"LatestRecordedPopulation\": float,\r\n",
                "        \"LastEditedBy\": int\r\n",
                "    },\r\n",
                "    \"wwi.db\",\r\n",
                "    \"Cities_Archive\"\r\n",
                ")"
            ],
            "metadata": {
                "language": "python",
                "azdata_cell_guid": "4cee05f8-8ff0-483a-b88a-cf4c55131ac1"
            },
            "outputs": [
                {
                    "output_type": "stream",
                    "name": "stdout",
                    "text": "Successfully created Cities table in wwi.db database.\n"
                },
                {
                    "output_type": "stream",
                    "name": "stdout",
                    "text": "Successfully created Cities_Archive table in wwi.db database.\n"
                }
            ],
            "execution_count": 3
        },
        {
            "cell_type": "markdown",
            "source": [
                "Save Countries tables"
            ],
            "metadata": {
                "language": "python",
                "azdata_cell_guid": "4371e65b-cd7c-41fd-8452-db9f8bf3ec44"
            },
            "attachments": {}
        },
        {
            "cell_type": "code",
            "source": [
                "# main\r\n",
                "save_to_database(\r\n",
                "    \"./wwi/Countries.csv\",\r\n",
                "    {\r\n",
                "        \"CountryID\": int,\r\n",
                "        \"IsoNumericCode\": int,\r\n",
                "        \"LatestRecordedPopulation\": float,\r\n",
                "        \"LastEditedBy\": int\r\n",
                "    },\r\n",
                "    \"wwi.db\",\r\n",
                "    \"Countries\"\r\n",
                ")\r\n",
                "\r\n",
                "# archive\r\n",
                "save_to_database(\r\n",
                "    \"./wwi/Countries_Archive.csv\",\r\n",
                "    {\r\n",
                "        \"CountryID\": int,\r\n",
                "        \"IsoNumericCode\": int,\r\n",
                "        \"LatestRecordedPopulation\": float,\r\n",
                "        \"LastEditedBy\": int\r\n",
                "    },\r\n",
                "    \"wwi.db\",\r\n",
                "    \"Countries_Archive\"\r\n",
                ")"
            ],
            "metadata": {
                "language": "python",
                "azdata_cell_guid": "4af3f577-7b6c-4f34-903d-fba832e12311"
            },
            "outputs": [
                {
                    "output_type": "stream",
                    "name": "stdout",
                    "text": "Successfully created Countries table in wwi.db database.\n"
                },
                {
                    "output_type": "stream",
                    "name": "stdout",
                    "text": "Successfully created Countries_Archive table in wwi.db database.\n"
                }
            ],
            "execution_count": 4
        },
        {
            "cell_type": "markdown",
            "source": [
                "Save Delivery Methods tables"
            ],
            "metadata": {
                "language": "python",
                "azdata_cell_guid": "b505218b-d779-4bce-b309-1dbe08089403"
            },
            "attachments": {}
        },
        {
            "cell_type": "code",
            "source": [
                "# main\r\n",
                "save_to_database(\r\n",
                "    \"./wwi/DeliveryMethods.csv\",\r\n",
                "    {\r\n",
                "        \"DeliveryMethodID\": int,\r\n",
                "        \"LastEditedBy\": int\r\n",
                "    },\r\n",
                "    \"wwi.db\",\r\n",
                "    \"DeliveryMethods\"\r\n",
                ")\r\n",
                "\r\n",
                "# archive\r\n",
                "save_to_database(\r\n",
                "    \"./wwi/DeliveryMethods_Archive.csv\",\r\n",
                "    {\r\n",
                "        \"DeliveryMethodID\": int,\r\n",
                "        \"LastEditedBy\": int\r\n",
                "    },\r\n",
                "    \"wwi.db\",\r\n",
                "    \"DeliveryMethods_Archive\"\r\n",
                ")"
            ],
            "metadata": {
                "language": "python",
                "azdata_cell_guid": "53d8c19a-b285-4ad7-8ecf-1f5436d49794"
            },
            "outputs": [
                {
                    "output_type": "stream",
                    "name": "stdout",
                    "text": "Successfully created DeliveryMethods table in wwi.db database.\n"
                },
                {
                    "output_type": "stream",
                    "name": "stdout",
                    "text": "Successfully created DeliveryMethods_Archive table in wwi.db database.\n"
                }
            ],
            "execution_count": 5
        },
        {
            "cell_type": "markdown",
            "source": [
                "Save Payment Methods tables"
            ],
            "metadata": {
                "language": "python",
                "azdata_cell_guid": "ffe6b36e-efc9-45f0-af08-7ad32333fd10"
            },
            "attachments": {}
        },
        {
            "cell_type": "code",
            "source": [
                "# main\r\n",
                "save_to_database(\r\n",
                "    \"./wwi/PaymentMethods.csv\",\r\n",
                "    {\r\n",
                "        \"PaymentMethodID\": int,\r\n",
                "        \"LastEditedBy\": int\r\n",
                "    },\r\n",
                "    \"wwi.db\",\r\n",
                "    \"PaymentMethods\"\r\n",
                ")\r\n",
                "\r\n",
                "# archive\r\n",
                "save_to_database(\r\n",
                "    \"./wwi/PaymentMethods_Archive.csv\",\r\n",
                "    {\r\n",
                "        \"PaymentMethodID\": int,\r\n",
                "        \"LastEditedBy\": int\r\n",
                "    },\r\n",
                "    \"wwi.db\",\r\n",
                "    \"PaymentMethods_Archive\"\r\n",
                ")"
            ],
            "metadata": {
                "language": "python",
                "azdata_cell_guid": "ceee1ca5-45b8-44d9-b1cb-9028a6ee153d"
            },
            "outputs": [
                {
                    "output_type": "stream",
                    "name": "stdout",
                    "text": "Successfully created PaymentMethods table in wwi.db database.\n"
                },
                {
                    "output_type": "stream",
                    "name": "stdout",
                    "text": "Successfully created PaymentMethods_Archive table in wwi.db database.\n"
                }
            ],
            "execution_count": 6
        },
        {
            "cell_type": "markdown",
            "source": [
                "Save People tables"
            ],
            "metadata": {
                "language": "python",
                "azdata_cell_guid": "54da2313-f0a1-4a33-a4a6-e7cdf43a5c6d"
            },
            "attachments": {}
        },
        {
            "cell_type": "code",
            "source": [
                "# main\r\n",
                "save_to_database(\r\n",
                "    \"./wwi/People.csv\",\r\n",
                "    {\r\n",
                "        \"PersonID\": int,\r\n",
                "        \"IsPermittedToLogon\": int,\r\n",
                "        \"IsExternalLogonProvider\": int,\r\n",
                "        \"IsSystemUser\": int,\r\n",
                "        \"IsEmployee\": int,\r\n",
                "        \"IsSalesperson\": int,   \r\n",
                "        \"LastEditedBy\": int\r\n",
                "    },\r\n",
                "    \"wwi.db\",\r\n",
                "    \"People\"\r\n",
                ")\r\n",
                "\r\n",
                "# archive\r\n",
                "save_to_database(\r\n",
                "    \"./wwi/People_Archive.csv\",\r\n",
                "    {\r\n",
                "        \"PersonID\": int,\r\n",
                "        \"IsPermittedToLogon\": int,\r\n",
                "        \"IsExternalLogonProvider\": int,\r\n",
                "        \"IsSystemUser\": int,\r\n",
                "        \"IsEmployee\": int,\r\n",
                "        \"IsSalesperson\": int,\r\n",
                "        \"LastEditedBy\": float\r\n",
                "    },\r\n",
                "    \"wwi.db\",\r\n",
                "    \"People_Archive\"\r\n",
                ")"
            ],
            "metadata": {
                "language": "python",
                "azdata_cell_guid": "220d465f-b76a-44ec-8e2d-9b72625d3f87"
            },
            "outputs": [
                {
                    "output_type": "stream",
                    "name": "stdout",
                    "text": "Successfully created People table in wwi.db database.\n"
                },
                {
                    "output_type": "stream",
                    "name": "stdout",
                    "text": "Successfully created People_Archive table in wwi.db database.\n"
                }
            ],
            "execution_count": 7
        },
        {
            "cell_type": "markdown",
            "source": [
                "Save State Provinces table"
            ],
            "metadata": {
                "azdata_cell_guid": "8f22286e-288e-49c0-8257-9bd7b0d267e7"
            },
            "attachments": {}
        },
        {
            "cell_type": "code",
            "source": [
                "# main\r\n",
                "save_to_database(\r\n",
                "    \"./wwi/StateProvinces.csv\",\r\n",
                "    {\r\n",
                "        \"StateProvinceID\": int,\r\n",
                "        \"CountryID\": int,\r\n",
                "        \"LatestRecordedPopulation\": float,\r\n",
                "        \"LastEditedBy\": int\r\n",
                "    },\r\n",
                "    \"wwi.db\",\r\n",
                "    \"StateProvinces\"\r\n",
                ")\r\n",
                "\r\n",
                "# archive\r\n",
                "save_to_database(\r\n",
                "    \"./wwi/StateProvinces_Archive.csv\",\r\n",
                "    {\r\n",
                "        \"StateProvinceID\": int,\r\n",
                "        \"CountryID\": int,\r\n",
                "        \"LatestRecordedPopulation\": float,\r\n",
                "        \"LastEditedBy\": int\r\n",
                "    },\r\n",
                "    \"wwi.db\",\r\n",
                "    \"StateProvinces_Archive\"\r\n",
                ")"
            ],
            "metadata": {
                "azdata_cell_guid": "c0d441fe-1969-441a-afc0-1b7bb68266a0",
                "language": "python"
            },
            "outputs": [
                {
                    "output_type": "stream",
                    "name": "stdout",
                    "text": "Successfully created StateProvinces table in wwi.db database.\n"
                },
                {
                    "output_type": "stream",
                    "name": "stdout",
                    "text": "Successfully created StateProvinces_Archive table in wwi.db database.\n"
                }
            ],
            "execution_count": 8
        },
        {
            "cell_type": "markdown",
            "source": [
                "Save Transaction Types tables"
            ],
            "metadata": {
                "language": "python",
                "azdata_cell_guid": "84d68120-ecf4-45e1-adc2-d31203ab9977"
            },
            "attachments": {}
        },
        {
            "cell_type": "code",
            "source": [
                "# main\r\n",
                "save_to_database(\r\n",
                "    \"./wwi/TransactionTypes.csv\",\r\n",
                "    {\r\n",
                "        \"TransactionTypeID\": int,\r\n",
                "        \"LastEditedBy\": int\r\n",
                "    },\r\n",
                "    \"wwi.db\",\r\n",
                "    \"TransactionTypes\"\r\n",
                ")\r\n",
                "\r\n",
                "# archive\r\n",
                "save_to_database(\r\n",
                "    \"./wwi/TransactionTypes_Archive.csv\",\r\n",
                "    {\r\n",
                "        \"TransactionTypeID\": int,\r\n",
                "        \"LastEditedBy\": int\r\n",
                "    },\r\n",
                "    \"wwi.db\",\r\n",
                "    \"TransactionTypes_Archive\"\r\n",
                ")"
            ],
            "metadata": {
                "language": "python",
                "azdata_cell_guid": "20cfabbe-3458-4dd8-aa12-83baa9572012"
            },
            "outputs": [
                {
                    "output_type": "stream",
                    "name": "stdout",
                    "text": "Successfully created TransactionTypes table in wwi.db database.\n"
                },
                {
                    "output_type": "stream",
                    "name": "stdout",
                    "text": "Successfully created TransactionTypes_Archive table in wwi.db database.\n"
                }
            ],
            "execution_count": 9
        },
        {
            "cell_type": "markdown",
            "source": [
                "Save Purchase tables"
            ],
            "metadata": {
                "language": "python",
                "azdata_cell_guid": "96e4d6ca-4838-4e4f-908c-65fc25389be8"
            },
            "attachments": {}
        },
        {
            "cell_type": "code",
            "source": [
                "# purchase order lines\r\n",
                "save_to_database(\r\n",
                "    \"./wwi/PurchaseOrderLines.csv\",\r\n",
                "    {\r\n",
                "        \"PurchaseOrderLineID\": int,\r\n",
                "        \"PurchaseOrderID\": int,\r\n",
                "        \"StockItemID\": int,\r\n",
                "        \"OrderedOuters\": int,\r\n",
                "        \"ReceivedOuters\": int,\r\n",
                "        \"PackageTypeID\": int,\r\n",
                "        \"ExpectedUnitPricePerOuter\": float,\r\n",
                "        \"IsOrderLineFinalized\": int,\r\n",
                "        \"LastEditedBy\": int\r\n",
                "    },\r\n",
                "    \"wwi.db\",\r\n",
                "    \"PurchaseOrderLines\"\r\n",
                ")\r\n",
                "\r\n",
                "# purchase orders\r\n",
                "save_to_database(\r\n",
                "    \"./wwi/PurchaseOrders.csv\",\r\n",
                "    {\r\n",
                "        \"PurchaseOrderID\": int,\r\n",
                "        \"SupplierID\": int,\r\n",
                "        \"DeliveryMethodID\": int,\r\n",
                "        \"ContactPersonID\": int,\r\n",
                "        \"IsOrderFinalized\": int,\r\n",
                "        \"Comments\": object,\r\n",
                "        \"InternalComments\": object,\r\n",
                "        \"LastEditedBy\": int\r\n",
                "    },\r\n",
                "    \"wwi.db\",\r\n",
                "    \"PurchaseOrders\"\r\n",
                ")\r\n",
                "\r\n",
                "# supplier categories\r\n",
                "save_to_database(\r\n",
                "    \"./wwi/SupplierCategories.csv\",\r\n",
                "    {\r\n",
                "        \"SupplierCategoryID\": int,\r\n",
                "        \"LastEditedBy\": int\r\n",
                "    },\r\n",
                "    \"wwi.db\",\r\n",
                "    \"SupplierCategories\"\r\n",
                ")\r\n",
                "\r\n",
                "# supplier categories archive\r\n",
                "save_to_database(\r\n",
                "    \"./wwi/SupplierCategories_Archive.csv\",\r\n",
                "    {\r\n",
                "        \"SupplierCategoryID\": int,\r\n",
                "        \"LastEditedBy\": int\r\n",
                "    },\r\n",
                "    \"wwi.db\",\r\n",
                "    \"SupplierCategories_Archive\"\r\n",
                ")\r\n",
                "\r\n",
                "# suppliers\r\n",
                "save_to_database(\r\n",
                "    \"./wwi/Suppliers.csv\",\r\n",
                "    {\r\n",
                "        \"SupplierID\": int,\r\n",
                "        \"SupplierCategoryID\": int,\r\n",
                "        \"PrimaryContactPersonID\": int,\r\n",
                "        \"AlternateContactPersonID\": int,\r\n",
                "        \"DeliveryMethodID\": \"Int64\",\r\n",
                "        \"DeliveryCityID\": int,\r\n",
                "        \"PostalCityID\": int,\r\n",
                "        \"PostalCityID\": int,\r\n",
                "        \"PaymentDays\": int,\r\n",
                "        \"InternalComments\": object,\r\n",
                "        \"LastEditedBy\": int\r\n",
                "    },\r\n",
                "    \"wwi.db\",\r\n",
                "    \"Suppliers\"\r\n",
                ")\r\n",
                "\r\n",
                "# suppliers archive\r\n",
                "save_to_database(\r\n",
                "    \"./wwi/Suppliers_Archive.csv\",\r\n",
                "    {\r\n",
                "        \"SupplierID\": int,\r\n",
                "        \"SupplierCategoryID\": int,\r\n",
                "        \"PrimaryContactPersonID\": int,\r\n",
                "        \"AlternateContactPersonID\": int,\r\n",
                "        \"DeliveryMethodID\": \"Int64\",\r\n",
                "        \"DeliveryCityID\": int,\r\n",
                "        \"PostalCityID\": int,\r\n",
                "        \"PostalCityID\": int,\r\n",
                "        \"PaymentDays\": int,\r\n",
                "        \"InternalComments\": object,\r\n",
                "        \"LastEditedBy\": int\r\n",
                "    },\r\n",
                "    \"wwi.db\",\r\n",
                "    \"Suppliers_Archive\"\r\n",
                ")\r\n",
                "\r\n",
                "# supplier transactions\r\n",
                "save_to_database(\r\n",
                "    \"./wwi/SupplierTransactions.csv\",\r\n",
                "    {\r\n",
                "        \"SupplierTransactionID\": int,\r\n",
                "        \"SupplierID\": int,\r\n",
                "        \"TransactionTypeID\": int,\r\n",
                "        \"PurchaseOrderID\": \"Int64\",\r\n",
                "        \"PaymentMethodID\": int,\r\n",
                "        \"AmountExcludingTax\": float,\r\n",
                "        \"TaxAmount\": float,\r\n",
                "        \"TransactionAmount\": float,\r\n",
                "        \"OutstandingBalance\": float,\r\n",
                "        \"IsFinalized\": int,\r\n",
                "        \"LastEditedBy\": int\r\n",
                "    },\r\n",
                "    \"wwi.db\",\r\n",
                "    \"SupplierTransactions\"\r\n",
                ")\r\n",
                "\r\n",
                ""
            ],
            "metadata": {
                "language": "python",
                "azdata_cell_guid": "941d5450-71dc-4b3a-aba8-16a96a4982f5"
            },
            "outputs": [
                {
                    "output_type": "stream",
                    "name": "stdout",
                    "text": "Successfully created PurchaseOrderLines table in wwi.db database.\n"
                },
                {
                    "output_type": "stream",
                    "name": "stdout",
                    "text": "Successfully created PurchaseOrders table in wwi.db database.\n"
                },
                {
                    "output_type": "stream",
                    "name": "stdout",
                    "text": "Successfully created SupplierCategories table in wwi.db database.\n"
                },
                {
                    "output_type": "stream",
                    "name": "stdout",
                    "text": "Successfully created SupplierCategories_Archive table in wwi.db database.\n"
                },
                {
                    "output_type": "stream",
                    "name": "stdout",
                    "text": "Successfully created Suppliers table in wwi.db database.\n"
                },
                {
                    "output_type": "stream",
                    "name": "stdout",
                    "text": "Successfully created Suppliers_Archive table in wwi.db database.\n"
                },
                {
                    "output_type": "stream",
                    "name": "stdout",
                    "text": "Successfully created SupplierTransactions table in wwi.db database.\n"
                }
            ],
            "execution_count": 10
        },
        {
            "cell_type": "markdown",
            "source": [
                "Save Sales tables"
            ],
            "metadata": {
                "azdata_cell_guid": "8cbe93a0-c63e-4cea-809c-a090447a1b05"
            },
            "attachments": {}
        },
        {
            "cell_type": "code",
            "source": [
                "# buying groups\r\n",
                "save_to_database(\r\n",
                "    \"./wwi/BuyingGroups.csv\",\r\n",
                "    {\r\n",
                "        \"BuyingGroupID\": int,\r\n",
                "        \"LastEditedBy\": int\r\n",
                "    },\r\n",
                "    \"wwi.db\",\r\n",
                "    \"BuyingGroups\"\r\n",
                ")\r\n",
                "\r\n",
                "# buying groups\r\n",
                "save_to_database(\r\n",
                "    \"./wwi/BuyingGroups_Archive.csv\",\r\n",
                "    {\r\n",
                "        \"BuyingGroupID\": int,\r\n",
                "        \"LastEditedBy\": int\r\n",
                "    },\r\n",
                "    \"wwi.db\",\r\n",
                "    \"BuyingGroups_Archive\"\r\n",
                ")\r\n",
                "\r\n",
                "# customer categories\r\n",
                "save_to_database(\r\n",
                "    \"./wwi/CustomerCategories.csv\",\r\n",
                "    {\r\n",
                "        \"CustomerCategoryID\": int,\r\n",
                "        \"LastEditedBy\": int\r\n",
                "    },\r\n",
                "    \"wwi.db\",\r\n",
                "    \"CustomerCategories\"\r\n",
                ")\r\n",
                "\r\n",
                "# customer categories archive\r\n",
                "save_to_database(\r\n",
                "    \"./wwi/CustomerCategories_Archive.csv\",\r\n",
                "    {\r\n",
                "        \"CustomerCategoryID\": int,\r\n",
                "        \"LastEditedBy\": int\r\n",
                "    },\r\n",
                "    \"wwi.db\",\r\n",
                "    \"CustomerCategories_Archive\"\r\n",
                ")\r\n",
                "\r\n",
                "# customers\r\n",
                "save_to_database(\r\n",
                "    \"./wwi/Customers.csv\",\r\n",
                "    {\r\n",
                "        \"CustomerID\": \"Int64\",\r\n",
                "        \"BillToCustomerID\": \"Int64\",\r\n",
                "        \"CustomerCategoryID\": \"Int64\",\r\n",
                "        \"BuyingGroupID\": \"Int64\",\r\n",
                "        \"PrimaryContactPersonID\": \"Int64\",\r\n",
                "        \"AlternateContactPersonID\": \"Int64\",\r\n",
                "        \"DeliveryMethodID\": \"Int64\",\r\n",
                "        \"DeliveryCityID\": \"Int64\",\r\n",
                "        \"PostalCityID\": \"Int64\",\r\n",
                "        \"CreditLimit\": float,\r\n",
                "        \"StandardDiscountPercentage\": float,\r\n",
                "        \"IsStatementSent\": \"Int64\",\r\n",
                "        \"IsOnCreditHold\": \"Int64\",\r\n",
                "        \"PaymentDays\": \"Int64\",\r\n",
                "        \"DeliveryRun\": object,\r\n",
                "        \"RunPosition\": object,\r\n",
                "        \"LastEditedBy\": \"Int64\"\r\n",
                "    },\r\n",
                "    \"wwi.db\",\r\n",
                "    \"Customers\"\r\n",
                ")\r\n",
                "\r\n",
                "# customers archive\r\n",
                "save_to_database(\r\n",
                "    \"./wwi/Customers_archive.csv\",\r\n",
                "    {\r\n",
                "        \"CustomerID\": \"Int64\",\r\n",
                "        \"BillToCustomerID\": \"Int64\",\r\n",
                "        \"CustomerCategoryID\": \"Int64\",\r\n",
                "        \"BuyingGroupID\": \"Int64\",\r\n",
                "        \"PrimaryContactPersonID\": \"Int64\",\r\n",
                "        \"AlternateContactPersonID\": \"Int64\",\r\n",
                "        \"DeliveryMethodID\": \"Int64\",\r\n",
                "        \"DeliveryCityID\": \"Int64\",\r\n",
                "        \"PostalCityID\": \"Int64\",\r\n",
                "        \"CreditLimit\": float,\r\n",
                "        \"StandardDiscountPercentage\": float,\r\n",
                "        \"IsStatementSent\": \"Int64\",\r\n",
                "        \"IsOnCreditHold\": \"Int64\",\r\n",
                "        \"PaymentDays\": \"Int64\",\r\n",
                "        \"DeliveryRun\": object,\r\n",
                "        \"RunPosition\": object,\r\n",
                "        \"LastEditedBy\": \"Int64\"\r\n",
                "    },\r\n",
                "    \"wwi.db\",\r\n",
                "    \"Customers_Archive\"\r\n",
                ")\r\n",
                "\r\n",
                "# customer transactions\r\n",
                "save_to_database(\r\n",
                "    \"./wwi/CustomerTransactions.csv\",\r\n",
                "    {\r\n",
                "        \"CustomerTransactionID\": \"Int64\",\r\n",
                "        \"CustomerID\": \"Int64\",\r\n",
                "        \"TransactionTypeID\": \"Int64\",\r\n",
                "        \"InvoiceID\": \"Int64\",\r\n",
                "        \"PaymentMethodID\": \"Int64\",\r\n",
                "        \"AmountExcludingTax\": float,\r\n",
                "        \"TaxAmount\": float,\r\n",
                "        \"TransactionAmount\": float,\r\n",
                "        \"OutstandingBalance\": float,\r\n",
                "        \"IsFinalized\": int,\r\n",
                "        \"LastEditedBy\": \"Int64\"\r\n",
                "    },\r\n",
                "    \"wwi.db\",\r\n",
                "    \"CustomerTransactions\"\r\n",
                ")\r\n",
                "\r\n",
                "# invoice lines\r\n",
                "save_to_database(\r\n",
                "    \"./wwi/InvoiceLines.csv\",\r\n",
                "    {\r\n",
                "        \"InvoiceLineID\": \"Int64\",\r\n",
                "        \"InvoiceID\": \"Int64\",\r\n",
                "        \"StockItemID\": \"Int64\",\r\n",
                "        \"PackageTypeID\": \"Int64\",\r\n",
                "        \"Quantity\": \"Int64\",\r\n",
                "        \"UnitPrice\": float,\r\n",
                "        \"TaxRate\": float,\r\n",
                "        \"TaxAmount\": float,\r\n",
                "        \"LineProfit\": float,\r\n",
                "        \"ExtendedPrice\": float,\r\n",
                "        \"LastEditedBy\": \"Int64\"\r\n",
                "    },\r\n",
                "    \"wwi.db\",\r\n",
                "    \"InvoiceLines\"\r\n",
                ")\r\n",
                "\r\n",
                "# invoices\r\n",
                "save_to_database(\r\n",
                "    \"./wwi/Invoices.csv\",\r\n",
                "    {\r\n",
                "        \"InvoiceID\": \"Int64\",\r\n",
                "        \"CustomerID\": \"Int64\",\r\n",
                "        \"BillToCustomerID\": \"Int64\",\r\n",
                "        \"OrderID\": \"Int64\",\r\n",
                "        \"DeliveryMethodID\": \"Int64\",\r\n",
                "        \"ContactPersonID\": \"Int64\",\r\n",
                "        \"AccountsPersonID\": \"Int64\",\r\n",
                "        \"SalespersonPersonID\": \"Int64\",\r\n",
                "        \"PackedByPersonID\": \"Int64\",\r\n",
                "        \"IsCreditNote\": \"Int64\",\r\n",
                "        \"CreditNoteReason\": object,\r\n",
                "        \"Comments\": object,\r\n",
                "        \"DeliveryInstructions\": object,\r\n",
                "        \"InternalComments\": object,\r\n",
                "        \"TotalDryItems\": \"Int64\",\r\n",
                "        \"TotalChillerItems\": \"Int64\",\r\n",
                "        \"DeliveryRun\": object,\r\n",
                "        \"RunPosition\": object,\r\n",
                "        \"ReturnedDeliveryData\": object,\r\n",
                "        \"LastEditedBy\": \"Int64\"\r\n",
                "    },\r\n",
                "    \"wwi.db\",\r\n",
                "    \"Invoices\"\r\n",
                ")\r\n",
                "\r\n",
                "# order lines\r\n",
                "save_to_database(\r\n",
                "    \"./wwi/OrderLines.csv\",\r\n",
                "    {\r\n",
                "        \"OrderLineID\": \"Int64\",\r\n",
                "        \"OrderID\": \"Int64\",\r\n",
                "        \"StockItemID\": \"Int64\",\r\n",
                "        \"PackageTypeID\": \"Int64\",\r\n",
                "        \"Quantity\": \"Int64\",\r\n",
                "        \"UnitPrice\": float,\r\n",
                "        \"TaxRate\": float,\r\n",
                "        \"PickedQuantity\": \"Int64\",\r\n",
                "        \"LastEditedBy\": \"Int64\"\r\n",
                "    },\r\n",
                "    \"wwi.db\",\r\n",
                "    \"OrderLines\"\r\n",
                ")\r\n",
                "\r\n",
                "# orders\r\n",
                "save_to_database(\r\n",
                "    \"./wwi/Orders.csv\",\r\n",
                "    {\r\n",
                "        \"OrderID\": \"Int64\",\r\n",
                "        \"CustomerID\": \"Int64\",\r\n",
                "        \"SalespersonPersonID\": \"Int64\",\r\n",
                "        \"PickedByPersonID\": \"Int64\",\r\n",
                "        \"ContactPersonID\": \"Int64\",\r\n",
                "        \"BackorderOrderID\": \"Int64\",\r\n",
                "        \"IsUndersupplyBackordered\": \"Int64\",\r\n",
                "        \"Comments\": object,\r\n",
                "        \"DeliveryInstructions\": object,\r\n",
                "        \"InternalComments\": object,\r\n",
                "        \"LastEditedBy\": \"Int64\"\r\n",
                "    },\r\n",
                "    \"wwi.db\",\r\n",
                "    \"Orders\"\r\n",
                ")\r\n",
                "\r\n",
                "# special deals\r\n",
                "save_to_database(\r\n",
                "    \"./wwi/SpecialDeals.csv\",\r\n",
                "    {\r\n",
                "        \"SpecialDealID\": \"Int64\",\r\n",
                "        \"StockItemID\": \"Int64\",\r\n",
                "        \"CustomerID\": \"Int64\",\r\n",
                "        \"BuyingGroupID\": \"Int64\",\r\n",
                "        \"CustomerCategoryID\": \"Int64\",\r\n",
                "        \"StockGroupID\": \"Int64\",\r\n",
                "        \"DiscountAmount\": float,\r\n",
                "        \"DiscountPercentage\": float,\r\n",
                "        \"UnitPrice\": float,\r\n",
                "        \"LastEditedBy\": \"Int64\"\r\n",
                "    },\r\n",
                "    \"wwi.db\",\r\n",
                "    \"SpecialDeals\"\r\n",
                ")"
            ],
            "metadata": {
                "azdata_cell_guid": "3406e077-a5ef-4ddd-bae7-36954232a0e6",
                "language": "python"
            },
            "outputs": [
                {
                    "output_type": "stream",
                    "name": "stdout",
                    "text": "Successfully created BuyingGroups table in wwi.db database.\n"
                },
                {
                    "output_type": "stream",
                    "name": "stdout",
                    "text": "Successfully created BuyingGroups_Archive table in wwi.db database.\n"
                },
                {
                    "output_type": "stream",
                    "name": "stdout",
                    "text": "Successfully created CustomerCategories table in wwi.db database.\n"
                },
                {
                    "output_type": "stream",
                    "name": "stdout",
                    "text": "Successfully created CustomerCategories_Archive table in wwi.db database.\n"
                },
                {
                    "output_type": "stream",
                    "name": "stdout",
                    "text": "Successfully created Customers table in wwi.db database.\nSuccessfully created Customers_Archive table in wwi.db database.\n"
                },
                {
                    "output_type": "stream",
                    "name": "stdout",
                    "text": "Successfully created CustomerTransactions table in wwi.db database.\n"
                },
                {
                    "output_type": "stream",
                    "name": "stdout",
                    "text": "Successfully created InvoiceLines table in wwi.db database.\n"
                },
                {
                    "output_type": "stream",
                    "name": "stdout",
                    "text": "Successfully created Invoices table in wwi.db database.\n"
                },
                {
                    "output_type": "stream",
                    "name": "stdout",
                    "text": "Successfully created OrderLines table in wwi.db database.\n"
                },
                {
                    "output_type": "stream",
                    "name": "stdout",
                    "text": "Successfully created Orders table in wwi.db database.\n"
                },
                {
                    "output_type": "stream",
                    "name": "stdout",
                    "text": "Successfully created SpecialDeals table in wwi.db database.\n"
                }
            ],
            "execution_count": 11
        },
        {
            "cell_type": "markdown",
            "source": [
                "Save Warehouse tables"
            ],
            "metadata": {
                "azdata_cell_guid": "d593352f-c362-47ba-8f08-40f3c62cd20a"
            },
            "attachments": {}
        },
        {
            "cell_type": "code",
            "source": [
                "# cold room temperatures\r\n",
                "save_to_database(\r\n",
                "    \"./wwi/ColdRoomTemperatures.csv\",\r\n",
                "    {\r\n",
                "        \"ColdRoomTemperatureID\": float,\r\n",
                "        \"ColdRoomSensorNumber\": \"Int64\",\r\n",
                "        \"Temperature\": float\r\n",
                "    },\r\n",
                "    \"wwi.db\",\r\n",
                "    \"ColdRoomTemperatures\"\r\n",
                ")\r\n",
                "\r\n",
                "# # cold room temperatures archive\r\n",
                "# save_to_database(\r\n",
                "#     \"./wwi/ColdRoomTemperatures_Archive.csv\",\r\n",
                "#     {\r\n",
                "#         \"ColdRoomTemperatureID\": float,\r\n",
                "#         \"ColdRoomSensorNumber\": \"Int64\",\r\n",
                "#         \"Temperature\": float\r\n",
                "#     },\r\n",
                "#     \"wwi.db\",\r\n",
                "#     \"ColdRoomTemperatures_Archive\"\r\n",
                "# )\r\n",
                "\r\n",
                "# colors\r\n",
                "save_to_database(\r\n",
                "    \"./wwi/Colors.csv\",\r\n",
                "    {\r\n",
                "        \"ColorID\": \"Int64\",\r\n",
                "        \"LastEditedBy\": \"Int64\"\r\n",
                "    },\r\n",
                "    \"wwi.db\",\r\n",
                "    \"Colors\"\r\n",
                ")\r\n",
                "\r\n",
                "# colors archive\r\n",
                "save_to_database(\r\n",
                "    \"./wwi/Colors_Archive.csv\",\r\n",
                "    {\r\n",
                "        \"ColorID\": \"Int64\",\r\n",
                "        \"LastEditedBy\": \"Int64\"\r\n",
                "    },\r\n",
                "    \"wwi.db\",\r\n",
                "    \"Colors_Archive\"\r\n",
                ")\r\n",
                "\r\n",
                "# colors package types\r\n",
                "save_to_database(\r\n",
                "    \"./wwi/PackageTypes.csv\",\r\n",
                "    {\r\n",
                "        \"PackageTypeID\": \"Int64\",\r\n",
                "        \"LastEditedBy\": \"Int64\"\r\n",
                "    },\r\n",
                "    \"wwi.db\",\r\n",
                "    \"PackageTypes\"\r\n",
                ")\r\n",
                "\r\n",
                "# colors package types archive\r\n",
                "save_to_database(\r\n",
                "    \"./wwi/PackageTypes_Archive.csv\",\r\n",
                "    {\r\n",
                "        \"PackageTypeID\": \"Int64\",\r\n",
                "        \"LastEditedBy\": \"Int64\"\r\n",
                "    },\r\n",
                "    \"wwi.db\",\r\n",
                "    \"PackageTypes_Archive\"\r\n",
                ")\r\n",
                "\r\n",
                "# colors stock groups\r\n",
                "save_to_database(\r\n",
                "    \"./wwi/StockGroups.csv\",\r\n",
                "    {\r\n",
                "        \"StockGroupID\": \"Int64\",\r\n",
                "        \"LastEditedBy\": \"Int64\"\r\n",
                "    },\r\n",
                "    \"wwi.db\",\r\n",
                "    \"StockGroups\"\r\n",
                ")\r\n",
                "\r\n",
                "# colors stock groups archive\r\n",
                "save_to_database(\r\n",
                "    \"./wwi/StockGroups_Archive.csv\",\r\n",
                "    {\r\n",
                "        \"StockGroupID\": \"Int64\",\r\n",
                "        \"LastEditedBy\": \"Int64\"\r\n",
                "    },\r\n",
                "    \"wwi.db\",\r\n",
                "    \"StockGroups_Archive\"\r\n",
                ")\r\n",
                "\r\n",
                "# stock item holdings\r\n",
                "save_to_database(\r\n",
                "    \"./wwi/StockItemHoldings.csv\",\r\n",
                "    {\r\n",
                "        \"StockItemID\": \"Int64\",\r\n",
                "        \"QuantityOnHand\": \"Int64\",\r\n",
                "        \"LastStocktakeQuantity\": \"Int64\",\r\n",
                "        \"LastCostPrice\": float,\r\n",
                "        \"ReorderLevel\": \"Int64\",\r\n",
                "        \"TargetStockLevel\": \"Int64\",\r\n",
                "        \"LastEditedBy\": \"Int64\"\r\n",
                "    },\r\n",
                "    \"wwi.db\",\r\n",
                "    \"StockItemHoldings\"\r\n",
                ")\r\n",
                "\r\n",
                "# stock items\r\n",
                "save_to_database(\r\n",
                "    \"./wwi/StockItems.csv\",\r\n",
                "    {\r\n",
                "        \"StockItemID\": \"Int64\",\r\n",
                "        \"SupplierID\": \"Int64\",\r\n",
                "        \"ColorID\": \"Int64\",\r\n",
                "        \"UnitPackageID\": \"Int64\",\r\n",
                "        \"OuterPackageID\": \"Int64\",\r\n",
                "        \"LeadTimeDays\": \"Int64\",\r\n",
                "        \"QuantityPerOuter\": \"Int64\",\r\n",
                "        \"IsChillerStock\": \"Int64\",\r\n",
                "        \"TaxRate\": float,\r\n",
                "        \"UnitPrice\": float,\r\n",
                "        \"RecommendedRetailPrice\": float,\r\n",
                "        \"TypicalWeightPerUnit\": float,\r\n",
                "        \"MarketingComments\": object,\r\n",
                "        \"InternalComments\": object,\r\n",
                "        \"Photo\": object,\r\n",
                "        \"CustomFields\": object,\r\n",
                "        \"Tags\": object,\r\n",
                "        \"SearchDetails\": object,\r\n",
                "        \"LastEditedBy\": \"Int64\"\r\n",
                "    },\r\n",
                "    \"wwi.db\",\r\n",
                "    \"StockItems\"\r\n",
                ")\r\n",
                "\r\n",
                "# stock items archive\r\n",
                "save_to_database(\r\n",
                "    \"./wwi/StockItems_Archive.csv\",\r\n",
                "    {\r\n",
                "        \"StockItemID\": \"Int64\",\r\n",
                "        \"SupplierID\": \"Int64\",\r\n",
                "        \"ColorID\": \"Int64\",\r\n",
                "        \"UnitPackageID\": \"Int64\",\r\n",
                "        \"OuterPackageID\": \"Int64\",\r\n",
                "        \"LeadTimeDays\": \"Int64\",\r\n",
                "        \"QuantityPerOuter\": \"Int64\",\r\n",
                "        \"IsChillerStock\": \"Int64\",\r\n",
                "        \"TaxRate\": float,\r\n",
                "        \"UnitPrice\": float,\r\n",
                "        \"RecommendedRetailPrice\": float,\r\n",
                "        \"TypicalWeightPerUnit\": float,\r\n",
                "        \"MarketingComments\": object,\r\n",
                "        \"InternalComments\": object,\r\n",
                "        \"Photo\": object,\r\n",
                "        \"CustomFields\": object,\r\n",
                "        \"Tags\": object,\r\n",
                "        \"SearchDetails\": object,\r\n",
                "        \"LastEditedBy\": \"Int64\"\r\n",
                "    },\r\n",
                "    \"wwi.db\",\r\n",
                "    \"StockItems_Archive\"\r\n",
                ")\r\n",
                "\r\n",
                "# stock item stock groups\r\n",
                "save_to_database(\r\n",
                "    \"./wwi/StockItemStockGroups.csv\",\r\n",
                "    {\r\n",
                "        \"StockItemStockGroupID\": \"Int64\",\r\n",
                "        \"StockItemID\": \"Int64\",\r\n",
                "        \"StockGroupID\": \"Int64\",\r\n",
                "        \"LastEditedBy\": \"Int64\"\r\n",
                "    },\r\n",
                "    \"wwi.db\",\r\n",
                "    \"StockItemStockGroups\"\r\n",
                ")\r\n",
                "\r\n",
                "# stock item transactions\r\n",
                "save_to_database(\r\n",
                "    \"./wwi/StockItemTransactions.csv\",\r\n",
                "    {\r\n",
                "        \"StockItemTransactionID\": \"Int64\",\r\n",
                "        \"StockItemID\": \"Int64\",\r\n",
                "        \"TransactionTypeID\": \"Int64\",\r\n",
                "        \"CustomerID\": \"Int64\",\r\n",
                "        \"InvoiceID\": \"Int64\",\r\n",
                "        \"SupplierID\": \"Int64\",\r\n",
                "        \"PurchaseOrderID\": \"Int64\",\r\n",
                "        \"Quantity\": float,\r\n",
                "        \"LastEditedBy\": \"Int64\"\r\n",
                "    },\r\n",
                "    \"wwi.db\",\r\n",
                "    \"StockItemTransactions\"\r\n",
                ")\r\n",
                "\r\n",
                "# vehicle temperatures\r\n",
                "save_to_database(\r\n",
                "    \"./wwi/VehicleTemperatures.csv\",\r\n",
                "    {\r\n",
                "        \"VehicleTemperatureID\": \"Int64\",\r\n",
                "        \"ChillerSensorNumber\": \"Int64\",\r\n",
                "        \"IsCompressed\": \"Int64\",\r\n",
                "        \"CompressedSensorData\": object\r\n",
                "    },\r\n",
                "    \"wwi.db\",\r\n",
                "    \"VehicleTemperatures\"\r\n",
                ")\r\n",
                ""
            ],
            "metadata": {
                "azdata_cell_guid": "5eff9f52-8984-4662-96fb-628657392184",
                "language": "python"
            },
            "outputs": [
                {
                    "output_type": "stream",
                    "name": "stdout",
                    "text": "Successfully created ColdRoomTemperatures table in wwi.db database.\nSuccessfully created Colors table in wwi.db database."
                },
                {
                    "output_type": "stream",
                    "name": "stdout",
                    "text": "\nSuccessfully created Colors_Archive table in wwi.db database.\n"
                },
                {
                    "output_type": "stream",
                    "name": "stdout",
                    "text": "Successfully created PackageTypes table in wwi.db database.\nSuccessfully created PackageTypes_Archive table in wwi.db database.\n"
                },
                {
                    "output_type": "stream",
                    "name": "stdout",
                    "text": "Successfully created StockGroups table in wwi.db database.\nSuccessfully created StockGroups_Archive table in wwi.db database.\n"
                },
                {
                    "output_type": "stream",
                    "name": "stdout",
                    "text": "Successfully created StockItemHoldings table in wwi.db database.\nSuccessfully created StockItems table in wwi.db database."
                },
                {
                    "output_type": "stream",
                    "name": "stdout",
                    "text": "\nSuccessfully created StockItems_Archive table in wwi.db database.\n"
                },
                {
                    "output_type": "stream",
                    "name": "stdout",
                    "text": "Successfully created StockItemStockGroups table in wwi.db database.\n"
                },
                {
                    "output_type": "stream",
                    "name": "stdout",
                    "text": "Successfully created StockItemTransactions table in wwi.db database.\n"
                },
                {
                    "output_type": "stream",
                    "name": "stdout",
                    "text": "Successfully created VehicleTemperatures table in wwi.db database.\n"
                }
            ],
            "execution_count": 12
        }
    ]
}